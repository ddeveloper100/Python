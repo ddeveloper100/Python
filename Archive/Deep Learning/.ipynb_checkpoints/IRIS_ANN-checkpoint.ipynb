{
 "cells": [
  {
   "cell_type": "code",
   "execution_count": 1,
   "id": "7fd782f0-9d88-4ab7-82dd-6fd7ceaf8876",
   "metadata": {},
   "outputs": [
    {
     "name": "stdout",
     "output_type": "stream",
     "text": [
      "Python 3.10.16\n"
     ]
    }
   ],
   "source": [
    "!python --version"
   ]
  },
  {
   "cell_type": "code",
   "execution_count": 2,
   "id": "82d6153a-2938-436b-b1e0-36a256f767cb",
   "metadata": {},
   "outputs": [],
   "source": [
    "import numpy as np\n",
    "from sklearn.datasets import load_iris\n",
    "from sklearn.model_selection import train_test_split\n",
    "from sklearn.preprocessing import StandardScaler, LabelBinarizer\n",
    "from tensorflow.keras.models import Sequential\n",
    "from tensorflow.keras.layers import Dense"
   ]
  },
  {
   "cell_type": "markdown",
   "id": "c9fe8fe4-e8c1-432c-b31b-875f3c492b5c",
   "metadata": {},
   "source": [
    "## Load and Preprocess the Iris Dataset"
   ]
  },
  {
   "cell_type": "code",
   "execution_count": 3,
   "id": "5d7cfae6-bb3f-4fdf-acc5-af4c8bfcc421",
   "metadata": {},
   "outputs": [],
   "source": [
    "iris = load_iris()\n",
    "X = iris.data\n",
    "y = iris.target"
   ]
  },
  {
   "cell_type": "markdown",
   "id": "ef8e4b0b-20bc-47b6-9119-40347e1ff717",
   "metadata": {},
   "source": [
    "## Normalize the features"
   ]
  },
  {
   "cell_type": "code",
   "execution_count": 4,
   "id": "ff1fe727-a40f-4bd6-9cbb-d7398b2b01a9",
   "metadata": {},
   "outputs": [
    {
     "data": {
      "text/plain": [
       "(150, 4)"
      ]
     },
     "execution_count": 4,
     "metadata": {},
     "output_type": "execute_result"
    }
   ],
   "source": [
    "scaler = StandardScaler()\n",
    "X = scaler.fit_transform(X)\n",
    "X.shape"
   ]
  },
  {
   "cell_type": "markdown",
   "id": "603916e7-953f-4334-b118-f66d13f7b1b5",
   "metadata": {},
   "source": [
    "## Convert labels to one-hot encoding"
   ]
  },
  {
   "cell_type": "code",
   "execution_count": 5,
   "id": "70f4956c-2a0f-4cb0-9547-524a8966f67c",
   "metadata": {},
   "outputs": [],
   "source": [
    "encoder = LabelBinarizer()\n",
    "y = encoder.fit_transform(y)"
   ]
  },
  {
   "cell_type": "markdown",
   "id": "4cfa6289-6d95-4af9-86c2-3169577ead27",
   "metadata": {},
   "source": [
    "## Train-test split"
   ]
  },
  {
   "cell_type": "code",
   "execution_count": 6,
   "id": "52b8ffec-240d-4cf4-9644-da0d475c5f54",
   "metadata": {},
   "outputs": [],
   "source": [
    "X_train, X_test, y_train, y_test = train_test_split(X, y, test_size=0.2, random_state=42)"
   ]
  },
  {
   "cell_type": "markdown",
   "id": "2e84f215-47e1-481d-96e2-fc9ec65ccbbb",
   "metadata": {},
   "source": [
    "## Build the ANN Model"
   ]
  },
  {
   "cell_type": "code",
   "execution_count": 7,
   "id": "02a19898-5c7f-4ec1-9f8a-22146c29406f",
   "metadata": {},
   "outputs": [],
   "source": [
    "model = Sequential()"
   ]
  },
  {
   "cell_type": "markdown",
   "id": "a659f4ed-4f98-4c6a-8f98-9eab2bbea830",
   "metadata": {},
   "source": [
    "## Input Layer + First Hidden Layer"
   ]
  },
  {
   "cell_type": "code",
   "execution_count": 8,
   "id": "a8c2553c-1eb0-40b0-966a-85b562e7bfec",
   "metadata": {},
   "outputs": [],
   "source": [
    "from tensorflow.keras.layers import Input\n",
    "\n",
    "model = Sequential()\n",
    "model.add(Input(shape=(4,)))\n",
    "model.add(Dense(10, activation='relu'))"
   ]
  },
  {
   "cell_type": "markdown",
   "id": "47422943-90d8-4519-bf5d-02119004313d",
   "metadata": {},
   "source": [
    "## Second Hidden Layer"
   ]
  },
  {
   "cell_type": "code",
   "execution_count": 9,
   "id": "7fc87948-7c8d-456e-9ea7-8ca559947c14",
   "metadata": {},
   "outputs": [],
   "source": [
    "model.add(Dense(8, activation='relu'))"
   ]
  },
  {
   "cell_type": "markdown",
   "id": "5f59ce7d-7d8f-46e2-9e4d-79eeb2a3dcea",
   "metadata": {},
   "source": [
    "## Output Layer (3 neurons for 3 classes)"
   ]
  },
  {
   "cell_type": "code",
   "execution_count": 10,
   "id": "fc2ad0b7-2353-4aa8-a6b9-470e50d6e2f3",
   "metadata": {},
   "outputs": [],
   "source": [
    "model.add(Dense(3, activation='softmax'))"
   ]
  },
  {
   "cell_type": "markdown",
   "id": "f9ce0382-ea3f-4e0a-8555-f97ab6f70001",
   "metadata": {},
   "source": [
    "## Compile the Model"
   ]
  },
  {
   "cell_type": "code",
   "execution_count": 11,
   "id": "29d0ad7f-29f9-4441-a6be-7b10e5a68408",
   "metadata": {},
   "outputs": [],
   "source": [
    "model.compile(\n",
    "    optimizer='adam',\n",
    "    loss='categorical_crossentropy',\n",
    "    metrics=['accuracy']\n",
    ")"
   ]
  },
  {
   "cell_type": "code",
   "execution_count": 12,
   "id": "e0d30f31-d167-4d49-8cce-4e0f4c37c5fd",
   "metadata": {},
   "outputs": [
    {
     "name": "stdout",
     "output_type": "stream",
     "text": [
      "Epoch 1/100\n",
      "\u001b[1m14/14\u001b[0m \u001b[32m━━━━━━━━━━━━━━━━━━━━\u001b[0m\u001b[37m\u001b[0m \u001b[1m2s\u001b[0m 30ms/step - accuracy: 0.6857 - loss: 0.8945 - val_accuracy: 0.6667 - val_loss: 1.0247\n",
      "Epoch 2/100\n",
      "\u001b[1m14/14\u001b[0m \u001b[32m━━━━━━━━━━━━━━━━━━━━\u001b[0m\u001b[37m\u001b[0m \u001b[1m0s\u001b[0m 12ms/step - accuracy: 0.6650 - loss: 0.8746 - val_accuracy: 0.7500 - val_loss: 0.9847\n",
      "Epoch 3/100\n",
      "\u001b[1m14/14\u001b[0m \u001b[32m━━━━━━━━━━━━━━━━━━━━\u001b[0m\u001b[37m\u001b[0m \u001b[1m0s\u001b[0m 11ms/step - accuracy: 0.7308 - loss: 0.8070 - val_accuracy: 0.7500 - val_loss: 0.9475\n",
      "Epoch 4/100\n",
      "\u001b[1m14/14\u001b[0m \u001b[32m━━━━━━━━━━━━━━━━━━━━\u001b[0m\u001b[37m\u001b[0m \u001b[1m0s\u001b[0m 13ms/step - accuracy: 0.6708 - loss: 0.7528 - val_accuracy: 0.7500 - val_loss: 0.9143\n",
      "Epoch 5/100\n",
      "\u001b[1m14/14\u001b[0m \u001b[32m━━━━━━━━━━━━━━━━━━━━\u001b[0m\u001b[37m\u001b[0m \u001b[1m0s\u001b[0m 15ms/step - accuracy: 0.7252 - loss: 0.7168 - val_accuracy: 0.7500 - val_loss: 0.8816\n",
      "Epoch 6/100\n",
      "\u001b[1m14/14\u001b[0m \u001b[32m━━━━━━━━━━━━━━━━━━━━\u001b[0m\u001b[37m\u001b[0m \u001b[1m0s\u001b[0m 12ms/step - accuracy: 0.7338 - loss: 0.6935 - val_accuracy: 0.7500 - val_loss: 0.8496\n",
      "Epoch 7/100\n",
      "\u001b[1m14/14\u001b[0m \u001b[32m━━━━━━━━━━━━━━━━━━━━\u001b[0m\u001b[37m\u001b[0m \u001b[1m0s\u001b[0m 13ms/step - accuracy: 0.7305 - loss: 0.6864 - val_accuracy: 0.8333 - val_loss: 0.8202\n",
      "Epoch 8/100\n",
      "\u001b[1m14/14\u001b[0m \u001b[32m━━━━━━━━━━━━━━━━━━━━\u001b[0m\u001b[37m\u001b[0m \u001b[1m0s\u001b[0m 14ms/step - accuracy: 0.7660 - loss: 0.6225 - val_accuracy: 0.8333 - val_loss: 0.7934\n",
      "Epoch 9/100\n",
      "\u001b[1m14/14\u001b[0m \u001b[32m━━━━━━━━━━━━━━━━━━━━\u001b[0m\u001b[37m\u001b[0m \u001b[1m0s\u001b[0m 10ms/step - accuracy: 0.7242 - loss: 0.6278 - val_accuracy: 0.8333 - val_loss: 0.7692\n",
      "Epoch 10/100\n",
      "\u001b[1m14/14\u001b[0m \u001b[32m━━━━━━━━━━━━━━━━━━━━\u001b[0m\u001b[37m\u001b[0m \u001b[1m0s\u001b[0m 13ms/step - accuracy: 0.7758 - loss: 0.6183 - val_accuracy: 0.8333 - val_loss: 0.7461\n",
      "Epoch 11/100\n",
      "\u001b[1m14/14\u001b[0m \u001b[32m━━━━━━━━━━━━━━━━━━━━\u001b[0m\u001b[37m\u001b[0m \u001b[1m0s\u001b[0m 8ms/step - accuracy: 0.8052 - loss: 0.5429 - val_accuracy: 0.8333 - val_loss: 0.7257\n",
      "Epoch 12/100\n",
      "\u001b[1m14/14\u001b[0m \u001b[32m━━━━━━━━━━━━━━━━━━━━\u001b[0m\u001b[37m\u001b[0m \u001b[1m0s\u001b[0m 11ms/step - accuracy: 0.8483 - loss: 0.5136 - val_accuracy: 0.8333 - val_loss: 0.7049\n",
      "Epoch 13/100\n",
      "\u001b[1m14/14\u001b[0m \u001b[32m━━━━━━━━━━━━━━━━━━━━\u001b[0m\u001b[37m\u001b[0m \u001b[1m0s\u001b[0m 13ms/step - accuracy: 0.7637 - loss: 0.5225 - val_accuracy: 0.8333 - val_loss: 0.6855\n",
      "Epoch 14/100\n",
      "\u001b[1m14/14\u001b[0m \u001b[32m━━━━━━━━━━━━━━━━━━━━\u001b[0m\u001b[37m\u001b[0m \u001b[1m0s\u001b[0m 14ms/step - accuracy: 0.8338 - loss: 0.5284 - val_accuracy: 0.8333 - val_loss: 0.6705\n",
      "Epoch 15/100\n",
      "\u001b[1m14/14\u001b[0m \u001b[32m━━━━━━━━━━━━━━━━━━━━\u001b[0m\u001b[37m\u001b[0m \u001b[1m0s\u001b[0m 9ms/step - accuracy: 0.7433 - loss: 0.4991 - val_accuracy: 0.7500 - val_loss: 0.6568\n",
      "Epoch 16/100\n",
      "\u001b[1m14/14\u001b[0m \u001b[32m━━━━━━━━━━━━━━━━━━━━\u001b[0m\u001b[37m\u001b[0m \u001b[1m0s\u001b[0m 13ms/step - accuracy: 0.8146 - loss: 0.4168 - val_accuracy: 0.7500 - val_loss: 0.6463\n",
      "Epoch 17/100\n",
      "\u001b[1m14/14\u001b[0m \u001b[32m━━━━━━━━━━━━━━━━━━━━\u001b[0m\u001b[37m\u001b[0m \u001b[1m0s\u001b[0m 12ms/step - accuracy: 0.7721 - loss: 0.4757 - val_accuracy: 0.7500 - val_loss: 0.6352\n",
      "Epoch 18/100\n",
      "\u001b[1m14/14\u001b[0m \u001b[32m━━━━━━━━━━━━━━━━━━━━\u001b[0m\u001b[37m\u001b[0m \u001b[1m0s\u001b[0m 14ms/step - accuracy: 0.8059 - loss: 0.4410 - val_accuracy: 0.7500 - val_loss: 0.6289\n",
      "Epoch 19/100\n",
      "\u001b[1m14/14\u001b[0m \u001b[32m━━━━━━━━━━━━━━━━━━━━\u001b[0m\u001b[37m\u001b[0m \u001b[1m0s\u001b[0m 14ms/step - accuracy: 0.8353 - loss: 0.4270 - val_accuracy: 0.7500 - val_loss: 0.6207\n",
      "Epoch 20/100\n",
      "\u001b[1m14/14\u001b[0m \u001b[32m━━━━━━━━━━━━━━━━━━━━\u001b[0m\u001b[37m\u001b[0m \u001b[1m0s\u001b[0m 15ms/step - accuracy: 0.8474 - loss: 0.3476 - val_accuracy: 0.7500 - val_loss: 0.6151\n",
      "Epoch 21/100\n",
      "\u001b[1m14/14\u001b[0m \u001b[32m━━━━━━━━━━━━━━━━━━━━\u001b[0m\u001b[37m\u001b[0m \u001b[1m0s\u001b[0m 9ms/step - accuracy: 0.7653 - loss: 0.4117 - val_accuracy: 0.7500 - val_loss: 0.6104\n",
      "Epoch 22/100\n",
      "\u001b[1m14/14\u001b[0m \u001b[32m━━━━━━━━━━━━━━━━━━━━\u001b[0m\u001b[37m\u001b[0m \u001b[1m0s\u001b[0m 9ms/step - accuracy: 0.7604 - loss: 0.4143 - val_accuracy: 0.7500 - val_loss: 0.6081\n",
      "Epoch 23/100\n",
      "\u001b[1m14/14\u001b[0m \u001b[32m━━━━━━━━━━━━━━━━━━━━\u001b[0m\u001b[37m\u001b[0m \u001b[1m0s\u001b[0m 12ms/step - accuracy: 0.7774 - loss: 0.4193 - val_accuracy: 0.7500 - val_loss: 0.6058\n",
      "Epoch 24/100\n",
      "\u001b[1m14/14\u001b[0m \u001b[32m━━━━━━━━━━━━━━━━━━━━\u001b[0m\u001b[37m\u001b[0m \u001b[1m0s\u001b[0m 13ms/step - accuracy: 0.7968 - loss: 0.3936 - val_accuracy: 0.7500 - val_loss: 0.6064\n",
      "Epoch 25/100\n",
      "\u001b[1m14/14\u001b[0m \u001b[32m━━━━━━━━━━━━━━━━━━━━\u001b[0m\u001b[37m\u001b[0m \u001b[1m0s\u001b[0m 12ms/step - accuracy: 0.8096 - loss: 0.3595 - val_accuracy: 0.7500 - val_loss: 0.6061\n",
      "Epoch 26/100\n",
      "\u001b[1m14/14\u001b[0m \u001b[32m━━━━━━━━━━━━━━━━━━━━\u001b[0m\u001b[37m\u001b[0m \u001b[1m0s\u001b[0m 16ms/step - accuracy: 0.8615 - loss: 0.3176 - val_accuracy: 0.7500 - val_loss: 0.6051\n",
      "Epoch 27/100\n",
      "\u001b[1m14/14\u001b[0m \u001b[32m━━━━━━━━━━━━━━━━━━━━\u001b[0m\u001b[37m\u001b[0m \u001b[1m0s\u001b[0m 13ms/step - accuracy: 0.8575 - loss: 0.2924 - val_accuracy: 0.7500 - val_loss: 0.6049\n",
      "Epoch 28/100\n",
      "\u001b[1m14/14\u001b[0m \u001b[32m━━━━━━━━━━━━━━━━━━━━\u001b[0m\u001b[37m\u001b[0m \u001b[1m0s\u001b[0m 15ms/step - accuracy: 0.8233 - loss: 0.3364 - val_accuracy: 0.7500 - val_loss: 0.6055\n",
      "Epoch 29/100\n",
      "\u001b[1m14/14\u001b[0m \u001b[32m━━━━━━━━━━━━━━━━━━━━\u001b[0m\u001b[37m\u001b[0m \u001b[1m0s\u001b[0m 10ms/step - accuracy: 0.8236 - loss: 0.3345 - val_accuracy: 0.7500 - val_loss: 0.6057\n",
      "Epoch 30/100\n",
      "\u001b[1m14/14\u001b[0m \u001b[32m━━━━━━━━━━━━━━━━━━━━\u001b[0m\u001b[37m\u001b[0m \u001b[1m0s\u001b[0m 11ms/step - accuracy: 0.7764 - loss: 0.3587 - val_accuracy: 0.7500 - val_loss: 0.6035\n",
      "Epoch 31/100\n",
      "\u001b[1m14/14\u001b[0m \u001b[32m━━━━━━━━━━━━━━━━━━━━\u001b[0m\u001b[37m\u001b[0m \u001b[1m0s\u001b[0m 12ms/step - accuracy: 0.8065 - loss: 0.3380 - val_accuracy: 0.7500 - val_loss: 0.6055\n",
      "Epoch 32/100\n",
      "\u001b[1m14/14\u001b[0m \u001b[32m━━━━━━━━━━━━━━━━━━━━\u001b[0m\u001b[37m\u001b[0m \u001b[1m0s\u001b[0m 12ms/step - accuracy: 0.7938 - loss: 0.3278 - val_accuracy: 0.7500 - val_loss: 0.6070\n",
      "Epoch 33/100\n",
      "\u001b[1m14/14\u001b[0m \u001b[32m━━━━━━━━━━━━━━━━━━━━\u001b[0m\u001b[37m\u001b[0m \u001b[1m0s\u001b[0m 12ms/step - accuracy: 0.7751 - loss: 0.3504 - val_accuracy: 0.7500 - val_loss: 0.6065\n",
      "Epoch 34/100\n",
      "\u001b[1m14/14\u001b[0m \u001b[32m━━━━━━━━━━━━━━━━━━━━\u001b[0m\u001b[37m\u001b[0m \u001b[1m0s\u001b[0m 12ms/step - accuracy: 0.8707 - loss: 0.2794 - val_accuracy: 0.7500 - val_loss: 0.6065\n",
      "Epoch 35/100\n",
      "\u001b[1m14/14\u001b[0m \u001b[32m━━━━━━━━━━━━━━━━━━━━\u001b[0m\u001b[37m\u001b[0m \u001b[1m0s\u001b[0m 13ms/step - accuracy: 0.8688 - loss: 0.2701 - val_accuracy: 0.7500 - val_loss: 0.6085\n",
      "Epoch 36/100\n",
      "\u001b[1m14/14\u001b[0m \u001b[32m━━━━━━━━━━━━━━━━━━━━\u001b[0m\u001b[37m\u001b[0m \u001b[1m0s\u001b[0m 13ms/step - accuracy: 0.8124 - loss: 0.2992 - val_accuracy: 0.7500 - val_loss: 0.6087\n",
      "Epoch 37/100\n",
      "\u001b[1m14/14\u001b[0m \u001b[32m━━━━━━━━━━━━━━━━━━━━\u001b[0m\u001b[37m\u001b[0m \u001b[1m0s\u001b[0m 13ms/step - accuracy: 0.8905 - loss: 0.2456 - val_accuracy: 0.7500 - val_loss: 0.6096\n",
      "Epoch 38/100\n",
      "\u001b[1m14/14\u001b[0m \u001b[32m━━━━━━━━━━━━━━━━━━━━\u001b[0m\u001b[37m\u001b[0m \u001b[1m0s\u001b[0m 15ms/step - accuracy: 0.8933 - loss: 0.2385 - val_accuracy: 0.7500 - val_loss: 0.6063\n",
      "Epoch 39/100\n",
      "\u001b[1m14/14\u001b[0m \u001b[32m━━━━━━━━━━━━━━━━━━━━\u001b[0m\u001b[37m\u001b[0m \u001b[1m0s\u001b[0m 14ms/step - accuracy: 0.8680 - loss: 0.2413 - val_accuracy: 0.7500 - val_loss: 0.6036\n",
      "Epoch 40/100\n",
      "\u001b[1m14/14\u001b[0m \u001b[32m━━━━━━━━━━━━━━━━━━━━\u001b[0m\u001b[37m\u001b[0m \u001b[1m0s\u001b[0m 15ms/step - accuracy: 0.8505 - loss: 0.2716 - val_accuracy: 0.7500 - val_loss: 0.6009\n",
      "Epoch 41/100\n",
      "\u001b[1m14/14\u001b[0m \u001b[32m━━━━━━━━━━━━━━━━━━━━\u001b[0m\u001b[37m\u001b[0m \u001b[1m0s\u001b[0m 14ms/step - accuracy: 0.8617 - loss: 0.2414 - val_accuracy: 0.8333 - val_loss: 0.5988\n",
      "Epoch 42/100\n",
      "\u001b[1m14/14\u001b[0m \u001b[32m━━━━━━━━━━━━━━━━━━━━\u001b[0m\u001b[37m\u001b[0m \u001b[1m0s\u001b[0m 12ms/step - accuracy: 0.8524 - loss: 0.2476 - val_accuracy: 0.8333 - val_loss: 0.5948\n",
      "Epoch 43/100\n",
      "\u001b[1m14/14\u001b[0m \u001b[32m━━━━━━━━━━━━━━━━━━━━\u001b[0m\u001b[37m\u001b[0m \u001b[1m0s\u001b[0m 14ms/step - accuracy: 0.8914 - loss: 0.2352 - val_accuracy: 0.8333 - val_loss: 0.5927\n",
      "Epoch 44/100\n",
      "\u001b[1m14/14\u001b[0m \u001b[32m━━━━━━━━━━━━━━━━━━━━\u001b[0m\u001b[37m\u001b[0m \u001b[1m0s\u001b[0m 10ms/step - accuracy: 0.9342 - loss: 0.2254 - val_accuracy: 0.8333 - val_loss: 0.5840\n",
      "Epoch 45/100\n",
      "\u001b[1m14/14\u001b[0m \u001b[32m━━━━━━━━━━━━━━━━━━━━\u001b[0m\u001b[37m\u001b[0m \u001b[1m0s\u001b[0m 16ms/step - accuracy: 0.9472 - loss: 0.1950 - val_accuracy: 0.8333 - val_loss: 0.5853\n",
      "Epoch 46/100\n",
      "\u001b[1m14/14\u001b[0m \u001b[32m━━━━━━━━━━━━━━━━━━━━\u001b[0m\u001b[37m\u001b[0m \u001b[1m0s\u001b[0m 11ms/step - accuracy: 0.9073 - loss: 0.2277 - val_accuracy: 0.8333 - val_loss: 0.5825\n",
      "Epoch 47/100\n",
      "\u001b[1m14/14\u001b[0m \u001b[32m━━━━━━━━━━━━━━━━━━━━\u001b[0m\u001b[37m\u001b[0m \u001b[1m0s\u001b[0m 9ms/step - accuracy: 0.9325 - loss: 0.2100 - val_accuracy: 0.8333 - val_loss: 0.5625\n",
      "Epoch 48/100\n",
      "\u001b[1m14/14\u001b[0m \u001b[32m━━━━━━━━━━━━━━━━━━━━\u001b[0m\u001b[37m\u001b[0m \u001b[1m0s\u001b[0m 12ms/step - accuracy: 0.9275 - loss: 0.2160 - val_accuracy: 0.9167 - val_loss: 0.5521\n",
      "Epoch 49/100\n",
      "\u001b[1m14/14\u001b[0m \u001b[32m━━━━━━━━━━━━━━━━━━━━\u001b[0m\u001b[37m\u001b[0m \u001b[1m0s\u001b[0m 15ms/step - accuracy: 0.9455 - loss: 0.1998 - val_accuracy: 0.9167 - val_loss: 0.5510\n",
      "Epoch 50/100\n",
      "\u001b[1m14/14\u001b[0m \u001b[32m━━━━━━━━━━━━━━━━━━━━\u001b[0m\u001b[37m\u001b[0m \u001b[1m0s\u001b[0m 12ms/step - accuracy: 0.9192 - loss: 0.2198 - val_accuracy: 0.9167 - val_loss: 0.5508\n",
      "Epoch 51/100\n",
      "\u001b[1m14/14\u001b[0m \u001b[32m━━━━━━━━━━━━━━━━━━━━\u001b[0m\u001b[37m\u001b[0m \u001b[1m0s\u001b[0m 15ms/step - accuracy: 0.9426 - loss: 0.1987 - val_accuracy: 0.9167 - val_loss: 0.5410\n",
      "Epoch 52/100\n",
      "\u001b[1m14/14\u001b[0m \u001b[32m━━━━━━━━━━━━━━━━━━━━\u001b[0m\u001b[37m\u001b[0m \u001b[1m0s\u001b[0m 14ms/step - accuracy: 0.9687 - loss: 0.1554 - val_accuracy: 0.9167 - val_loss: 0.5300\n",
      "Epoch 53/100\n",
      "\u001b[1m14/14\u001b[0m \u001b[32m━━━━━━━━━━━━━━━━━━━━\u001b[0m\u001b[37m\u001b[0m \u001b[1m0s\u001b[0m 13ms/step - accuracy: 0.9277 - loss: 0.1836 - val_accuracy: 0.9167 - val_loss: 0.5255\n",
      "Epoch 54/100\n",
      "\u001b[1m14/14\u001b[0m \u001b[32m━━━━━━━━━━━━━━━━━━━━\u001b[0m\u001b[37m\u001b[0m \u001b[1m0s\u001b[0m 13ms/step - accuracy: 0.9707 - loss: 0.1568 - val_accuracy: 0.9167 - val_loss: 0.5288\n",
      "Epoch 55/100\n",
      "\u001b[1m14/14\u001b[0m \u001b[32m━━━━━━━━━━━━━━━━━━━━\u001b[0m\u001b[37m\u001b[0m \u001b[1m0s\u001b[0m 12ms/step - accuracy: 0.9738 - loss: 0.1272 - val_accuracy: 0.9167 - val_loss: 0.5157\n",
      "Epoch 56/100\n",
      "\u001b[1m14/14\u001b[0m \u001b[32m━━━━━━━━━━━━━━━━━━━━\u001b[0m\u001b[37m\u001b[0m \u001b[1m0s\u001b[0m 13ms/step - accuracy: 0.9353 - loss: 0.1543 - val_accuracy: 0.9167 - val_loss: 0.5059\n",
      "Epoch 57/100\n",
      "\u001b[1m14/14\u001b[0m \u001b[32m━━━━━━━━━━━━━━━━━━━━\u001b[0m\u001b[37m\u001b[0m \u001b[1m0s\u001b[0m 14ms/step - accuracy: 0.9655 - loss: 0.1491 - val_accuracy: 0.9167 - val_loss: 0.5162\n",
      "Epoch 58/100\n",
      "\u001b[1m14/14\u001b[0m \u001b[32m━━━━━━━━━━━━━━━━━━━━\u001b[0m\u001b[37m\u001b[0m \u001b[1m0s\u001b[0m 13ms/step - accuracy: 0.9509 - loss: 0.1431 - val_accuracy: 0.9167 - val_loss: 0.4993\n",
      "Epoch 59/100\n",
      "\u001b[1m14/14\u001b[0m \u001b[32m━━━━━━━━━━━━━━━━━━━━\u001b[0m\u001b[37m\u001b[0m \u001b[1m0s\u001b[0m 11ms/step - accuracy: 0.9641 - loss: 0.1206 - val_accuracy: 0.9167 - val_loss: 0.4935\n",
      "Epoch 60/100\n",
      "\u001b[1m14/14\u001b[0m \u001b[32m━━━━━━━━━━━━━━━━━━━━\u001b[0m\u001b[37m\u001b[0m \u001b[1m0s\u001b[0m 11ms/step - accuracy: 0.9666 - loss: 0.1309 - val_accuracy: 0.9167 - val_loss: 0.4958\n",
      "Epoch 61/100\n",
      "\u001b[1m14/14\u001b[0m \u001b[32m━━━━━━━━━━━━━━━━━━━━\u001b[0m\u001b[37m\u001b[0m \u001b[1m0s\u001b[0m 12ms/step - accuracy: 0.9489 - loss: 0.1281 - val_accuracy: 0.9167 - val_loss: 0.4874\n",
      "Epoch 62/100\n",
      "\u001b[1m14/14\u001b[0m \u001b[32m━━━━━━━━━━━━━━━━━━━━\u001b[0m\u001b[37m\u001b[0m \u001b[1m0s\u001b[0m 11ms/step - accuracy: 0.9719 - loss: 0.1221 - val_accuracy: 0.9167 - val_loss: 0.4913\n",
      "Epoch 63/100\n",
      "\u001b[1m14/14\u001b[0m \u001b[32m━━━━━━━━━━━━━━━━━━━━\u001b[0m\u001b[37m\u001b[0m \u001b[1m0s\u001b[0m 11ms/step - accuracy: 0.9686 - loss: 0.1256 - val_accuracy: 0.9167 - val_loss: 0.4818\n",
      "Epoch 64/100\n",
      "\u001b[1m14/14\u001b[0m \u001b[32m━━━━━━━━━━━━━━━━━━━━\u001b[0m\u001b[37m\u001b[0m \u001b[1m0s\u001b[0m 10ms/step - accuracy: 0.9562 - loss: 0.1135 - val_accuracy: 0.9167 - val_loss: 0.4819\n",
      "Epoch 65/100\n",
      "\u001b[1m14/14\u001b[0m \u001b[32m━━━━━━━━━━━━━━━━━━━━\u001b[0m\u001b[37m\u001b[0m \u001b[1m0s\u001b[0m 15ms/step - accuracy: 0.9792 - loss: 0.0940 - val_accuracy: 0.9167 - val_loss: 0.4686\n",
      "Epoch 66/100\n",
      "\u001b[1m14/14\u001b[0m \u001b[32m━━━━━━━━━━━━━━━━━━━━\u001b[0m\u001b[37m\u001b[0m \u001b[1m0s\u001b[0m 14ms/step - accuracy: 0.9468 - loss: 0.1295 - val_accuracy: 0.9167 - val_loss: 0.4726\n",
      "Epoch 67/100\n",
      "\u001b[1m14/14\u001b[0m \u001b[32m━━━━━━━━━━━━━━━━━━━━\u001b[0m\u001b[37m\u001b[0m \u001b[1m0s\u001b[0m 15ms/step - accuracy: 0.9720 - loss: 0.1076 - val_accuracy: 0.9167 - val_loss: 0.4658\n",
      "Epoch 68/100\n",
      "\u001b[1m14/14\u001b[0m \u001b[32m━━━━━━━━━━━━━━━━━━━━\u001b[0m\u001b[37m\u001b[0m \u001b[1m0s\u001b[0m 17ms/step - accuracy: 0.9547 - loss: 0.1290 - val_accuracy: 0.9167 - val_loss: 0.4592\n",
      "Epoch 69/100\n",
      "\u001b[1m14/14\u001b[0m \u001b[32m━━━━━━━━━━━━━━━━━━━━\u001b[0m\u001b[37m\u001b[0m \u001b[1m0s\u001b[0m 16ms/step - accuracy: 0.9827 - loss: 0.0912 - val_accuracy: 0.9167 - val_loss: 0.4609\n",
      "Epoch 70/100\n",
      "\u001b[1m14/14\u001b[0m \u001b[32m━━━━━━━━━━━━━━━━━━━━\u001b[0m\u001b[37m\u001b[0m \u001b[1m0s\u001b[0m 11ms/step - accuracy: 0.9608 - loss: 0.0966 - val_accuracy: 0.9167 - val_loss: 0.4720\n",
      "Epoch 71/100\n",
      "\u001b[1m14/14\u001b[0m \u001b[32m━━━━━━━━━━━━━━━━━━━━\u001b[0m\u001b[37m\u001b[0m \u001b[1m0s\u001b[0m 13ms/step - accuracy: 0.9853 - loss: 0.0796 - val_accuracy: 0.9167 - val_loss: 0.4551\n",
      "Epoch 72/100\n",
      "\u001b[1m14/14\u001b[0m \u001b[32m━━━━━━━━━━━━━━━━━━━━\u001b[0m\u001b[37m\u001b[0m \u001b[1m0s\u001b[0m 14ms/step - accuracy: 0.9763 - loss: 0.0906 - val_accuracy: 0.9167 - val_loss: 0.4545\n",
      "Epoch 73/100\n",
      "\u001b[1m14/14\u001b[0m \u001b[32m━━━━━━━━━━━━━━━━━━━━\u001b[0m\u001b[37m\u001b[0m \u001b[1m0s\u001b[0m 12ms/step - accuracy: 0.9600 - loss: 0.1147 - val_accuracy: 0.9167 - val_loss: 0.4555\n",
      "Epoch 74/100\n",
      "\u001b[1m14/14\u001b[0m \u001b[32m━━━━━━━━━━━━━━━━━━━━\u001b[0m\u001b[37m\u001b[0m \u001b[1m0s\u001b[0m 12ms/step - accuracy: 0.9783 - loss: 0.0768 - val_accuracy: 0.9167 - val_loss: 0.4585\n",
      "Epoch 75/100\n",
      "\u001b[1m14/14\u001b[0m \u001b[32m━━━━━━━━━━━━━━━━━━━━\u001b[0m\u001b[37m\u001b[0m \u001b[1m0s\u001b[0m 14ms/step - accuracy: 0.9855 - loss: 0.1000 - val_accuracy: 0.9167 - val_loss: 0.4460\n",
      "Epoch 76/100\n",
      "\u001b[1m14/14\u001b[0m \u001b[32m━━━━━━━━━━━━━━━━━━━━\u001b[0m\u001b[37m\u001b[0m \u001b[1m0s\u001b[0m 12ms/step - accuracy: 0.9918 - loss: 0.0834 - val_accuracy: 0.9167 - val_loss: 0.4472\n",
      "Epoch 77/100\n",
      "\u001b[1m14/14\u001b[0m \u001b[32m━━━━━━━━━━━━━━━━━━━━\u001b[0m\u001b[37m\u001b[0m \u001b[1m0s\u001b[0m 10ms/step - accuracy: 0.9651 - loss: 0.1063 - val_accuracy: 0.9167 - val_loss: 0.4690\n",
      "Epoch 78/100\n",
      "\u001b[1m14/14\u001b[0m \u001b[32m━━━━━━━━━━━━━━━━━━━━\u001b[0m\u001b[37m\u001b[0m \u001b[1m0s\u001b[0m 13ms/step - accuracy: 0.9852 - loss: 0.0766 - val_accuracy: 0.9167 - val_loss: 0.4528\n",
      "Epoch 79/100\n",
      "\u001b[1m14/14\u001b[0m \u001b[32m━━━━━━━━━━━━━━━━━━━━\u001b[0m\u001b[37m\u001b[0m \u001b[1m0s\u001b[0m 12ms/step - accuracy: 0.9739 - loss: 0.0978 - val_accuracy: 0.9167 - val_loss: 0.4457\n",
      "Epoch 80/100\n",
      "\u001b[1m14/14\u001b[0m \u001b[32m━━━━━━━━━━━━━━━━━━━━\u001b[0m\u001b[37m\u001b[0m \u001b[1m0s\u001b[0m 12ms/step - accuracy: 0.9929 - loss: 0.0646 - val_accuracy: 0.9167 - val_loss: 0.4526\n",
      "Epoch 81/100\n",
      "\u001b[1m14/14\u001b[0m \u001b[32m━━━━━━━━━━━━━━━━━━━━\u001b[0m\u001b[37m\u001b[0m \u001b[1m0s\u001b[0m 14ms/step - accuracy: 0.9884 - loss: 0.0767 - val_accuracy: 0.9167 - val_loss: 0.4600\n",
      "Epoch 82/100\n",
      "\u001b[1m14/14\u001b[0m \u001b[32m━━━━━━━━━━━━━━━━━━━━\u001b[0m\u001b[37m\u001b[0m \u001b[1m0s\u001b[0m 13ms/step - accuracy: 0.9659 - loss: 0.1036 - val_accuracy: 0.9167 - val_loss: 0.4599\n",
      "Epoch 83/100\n",
      "\u001b[1m14/14\u001b[0m \u001b[32m━━━━━━━━━━━━━━━━━━━━\u001b[0m\u001b[37m\u001b[0m \u001b[1m0s\u001b[0m 11ms/step - accuracy: 0.9927 - loss: 0.0598 - val_accuracy: 0.9167 - val_loss: 0.4545\n",
      "Epoch 84/100\n",
      "\u001b[1m14/14\u001b[0m \u001b[32m━━━━━━━━━━━━━━━━━━━━\u001b[0m\u001b[37m\u001b[0m \u001b[1m0s\u001b[0m 15ms/step - accuracy: 0.9889 - loss: 0.0785 - val_accuracy: 0.9167 - val_loss: 0.4564\n",
      "Epoch 85/100\n",
      "\u001b[1m14/14\u001b[0m \u001b[32m━━━━━━━━━━━━━━━━━━━━\u001b[0m\u001b[37m\u001b[0m \u001b[1m0s\u001b[0m 12ms/step - accuracy: 0.9763 - loss: 0.0832 - val_accuracy: 0.9167 - val_loss: 0.4612\n",
      "Epoch 86/100\n",
      "\u001b[1m14/14\u001b[0m \u001b[32m━━━━━━━━━━━━━━━━━━━━\u001b[0m\u001b[37m\u001b[0m \u001b[1m0s\u001b[0m 12ms/step - accuracy: 0.9873 - loss: 0.0802 - val_accuracy: 0.9167 - val_loss: 0.4538\n",
      "Epoch 87/100\n",
      "\u001b[1m14/14\u001b[0m \u001b[32m━━━━━━━━━━━━━━━━━━━━\u001b[0m\u001b[37m\u001b[0m \u001b[1m0s\u001b[0m 12ms/step - accuracy: 0.9735 - loss: 0.0985 - val_accuracy: 0.9167 - val_loss: 0.4438\n",
      "Epoch 88/100\n",
      "\u001b[1m14/14\u001b[0m \u001b[32m━━━━━━━━━━━━━━━━━━━━\u001b[0m\u001b[37m\u001b[0m \u001b[1m0s\u001b[0m 14ms/step - accuracy: 0.9719 - loss: 0.1043 - val_accuracy: 0.9167 - val_loss: 0.4481\n",
      "Epoch 89/100\n",
      "\u001b[1m14/14\u001b[0m \u001b[32m━━━━━━━━━━━━━━━━━━━━\u001b[0m\u001b[37m\u001b[0m \u001b[1m0s\u001b[0m 12ms/step - accuracy: 0.9770 - loss: 0.0945 - val_accuracy: 0.9167 - val_loss: 0.4403\n",
      "Epoch 90/100\n",
      "\u001b[1m14/14\u001b[0m \u001b[32m━━━━━━━━━━━━━━━━━━━━\u001b[0m\u001b[37m\u001b[0m \u001b[1m0s\u001b[0m 10ms/step - accuracy: 0.9293 - loss: 0.1288 - val_accuracy: 0.9167 - val_loss: 0.4423\n",
      "Epoch 91/100\n",
      "\u001b[1m14/14\u001b[0m \u001b[32m━━━━━━━━━━━━━━━━━━━━\u001b[0m\u001b[37m\u001b[0m \u001b[1m0s\u001b[0m 13ms/step - accuracy: 0.9821 - loss: 0.0644 - val_accuracy: 0.9167 - val_loss: 0.4374\n",
      "Epoch 92/100\n",
      "\u001b[1m14/14\u001b[0m \u001b[32m━━━━━━━━━━━━━━━━━━━━\u001b[0m\u001b[37m\u001b[0m \u001b[1m0s\u001b[0m 14ms/step - accuracy: 0.9579 - loss: 0.0989 - val_accuracy: 0.9167 - val_loss: 0.4331\n",
      "Epoch 93/100\n",
      "\u001b[1m14/14\u001b[0m \u001b[32m━━━━━━━━━━━━━━━━━━━━\u001b[0m\u001b[37m\u001b[0m \u001b[1m0s\u001b[0m 14ms/step - accuracy: 0.9843 - loss: 0.0503 - val_accuracy: 0.9167 - val_loss: 0.4383\n",
      "Epoch 94/100\n",
      "\u001b[1m14/14\u001b[0m \u001b[32m━━━━━━━━━━━━━━━━━━━━\u001b[0m\u001b[37m\u001b[0m \u001b[1m0s\u001b[0m 14ms/step - accuracy: 0.9631 - loss: 0.0988 - val_accuracy: 0.9167 - val_loss: 0.4360\n",
      "Epoch 95/100\n",
      "\u001b[1m14/14\u001b[0m \u001b[32m━━━━━━━━━━━━━━━━━━━━\u001b[0m\u001b[37m\u001b[0m \u001b[1m0s\u001b[0m 12ms/step - accuracy: 0.9737 - loss: 0.0573 - val_accuracy: 0.9167 - val_loss: 0.4421\n",
      "Epoch 96/100\n",
      "\u001b[1m14/14\u001b[0m \u001b[32m━━━━━━━━━━━━━━━━━━━━\u001b[0m\u001b[37m\u001b[0m \u001b[1m0s\u001b[0m 14ms/step - accuracy: 0.9659 - loss: 0.0855 - val_accuracy: 0.9167 - val_loss: 0.4309\n",
      "Epoch 97/100\n",
      "\u001b[1m14/14\u001b[0m \u001b[32m━━━━━━━━━━━━━━━━━━━━\u001b[0m\u001b[37m\u001b[0m \u001b[1m0s\u001b[0m 12ms/step - accuracy: 0.9895 - loss: 0.0632 - val_accuracy: 0.9167 - val_loss: 0.4331\n",
      "Epoch 98/100\n",
      "\u001b[1m14/14\u001b[0m \u001b[32m━━━━━━━━━━━━━━━━━━━━\u001b[0m\u001b[37m\u001b[0m \u001b[1m0s\u001b[0m 10ms/step - accuracy: 0.9687 - loss: 0.0592 - val_accuracy: 0.9167 - val_loss: 0.4642\n",
      "Epoch 99/100\n",
      "\u001b[1m14/14\u001b[0m \u001b[32m━━━━━━━━━━━━━━━━━━━━\u001b[0m\u001b[37m\u001b[0m \u001b[1m0s\u001b[0m 15ms/step - accuracy: 0.9841 - loss: 0.0723 - val_accuracy: 0.9167 - val_loss: 0.4369\n",
      "Epoch 100/100\n",
      "\u001b[1m14/14\u001b[0m \u001b[32m━━━━━━━━━━━━━━━━━━━━\u001b[0m\u001b[37m\u001b[0m \u001b[1m0s\u001b[0m 10ms/step - accuracy: 0.9718 - loss: 0.0618 - val_accuracy: 0.9167 - val_loss: 0.4425\n"
     ]
    }
   ],
   "source": [
    "history = model.fit(\n",
    "    X_train, y_train,\n",
    "    epochs=100,\n",
    "    batch_size=8,\n",
    "    verbose=1,\n",
    "    validation_split=0.1  # optional: monitor performance on 10% of training data\n",
    ")"
   ]
  },
  {
   "cell_type": "markdown",
   "id": "c31e5fb9-d6dc-4a0c-8def-739e9fab4348",
   "metadata": {},
   "source": [
    "## Evaluate the Model"
   ]
  },
  {
   "cell_type": "code",
   "execution_count": 13,
   "id": "e9a680ab-0ae8-4b58-ba44-ac1e8560fa56",
   "metadata": {},
   "outputs": [
    {
     "name": "stdout",
     "output_type": "stream",
     "text": [
      "\u001b[1m1/1\u001b[0m \u001b[32m━━━━━━━━━━━━━━━━━━━━\u001b[0m\u001b[37m\u001b[0m \u001b[1m0s\u001b[0m 79ms/step - accuracy: 1.0000 - loss: 0.0526\n",
      "Test Accuracy: 1.00\n"
     ]
    }
   ],
   "source": [
    "loss, accuracy = model.evaluate(X_test, y_test)\n",
    "print(f\"Test Accuracy: {accuracy:.2f}\")"
   ]
  },
  {
   "cell_type": "code",
   "execution_count": 14,
   "id": "492e3de0-800e-4499-aa0f-fecf64962e35",
   "metadata": {},
   "outputs": [],
   "source": [
    "## Make Predictions"
   ]
  },
  {
   "cell_type": "code",
   "execution_count": 15,
   "id": "04a5481a-082f-4478-8ffb-3d22a8292439",
   "metadata": {},
   "outputs": [
    {
     "name": "stdout",
     "output_type": "stream",
     "text": [
      "\u001b[1m1/1\u001b[0m \u001b[32m━━━━━━━━━━━━━━━━━━━━\u001b[0m\u001b[37m\u001b[0m \u001b[1m0s\u001b[0m 111ms/step\n",
      "Predicted Labels: [1 0 2 1 1 0 1 2 1 1 2 0 0 0 0 1 2 1 1 2 0 2 0 2 2 2 2 2 0 0]\n",
      "True Labels     : [1 0 2 1 1 0 1 2 1 1 2 0 0 0 0 1 2 1 1 2 0 2 0 2 2 2 2 2 0 0]\n"
     ]
    }
   ],
   "source": [
    "# Get probabilities\n",
    "pred_prob = model.predict(X_test)\n",
    "\n",
    "# Convert to class labels\n",
    "pred_labels = np.argmax(pred_prob, axis=1)\n",
    "true_labels = np.argmax(y_test, axis=1)\n",
    "\n",
    "print(\"Predicted Labels:\", pred_labels)\n",
    "print(\"True Labels     :\", true_labels)"
   ]
  },
  {
   "cell_type": "code",
   "execution_count": 16,
   "id": "2da8df86-f61f-497c-8847-be0e1e474610",
   "metadata": {},
   "outputs": [
    {
     "name": "stdout",
     "output_type": "stream",
     "text": [
      "Requirement already satisfied: matplotlib in c:\\users\\admin\\anaconda3\\envs\\tf-env\\lib\\site-packages (3.10.1)\n",
      "Requirement already satisfied: contourpy>=1.0.1 in c:\\users\\admin\\anaconda3\\envs\\tf-env\\lib\\site-packages (from matplotlib) (1.3.2)\n",
      "Requirement already satisfied: cycler>=0.10 in c:\\users\\admin\\anaconda3\\envs\\tf-env\\lib\\site-packages (from matplotlib) (0.12.1)\n",
      "Requirement already satisfied: fonttools>=4.22.0 in c:\\users\\admin\\anaconda3\\envs\\tf-env\\lib\\site-packages (from matplotlib) (4.57.0)\n",
      "Requirement already satisfied: kiwisolver>=1.3.1 in c:\\users\\admin\\anaconda3\\envs\\tf-env\\lib\\site-packages (from matplotlib) (1.4.8)\n",
      "Requirement already satisfied: numpy>=1.23 in c:\\users\\admin\\anaconda3\\envs\\tf-env\\lib\\site-packages (from matplotlib) (2.1.3)\n",
      "Requirement already satisfied: packaging>=20.0 in c:\\users\\admin\\anaconda3\\envs\\tf-env\\lib\\site-packages (from matplotlib) (25.0)\n",
      "Requirement already satisfied: pillow>=8 in c:\\users\\admin\\anaconda3\\envs\\tf-env\\lib\\site-packages (from matplotlib) (11.2.1)\n",
      "Requirement already satisfied: pyparsing>=2.3.1 in c:\\users\\admin\\anaconda3\\envs\\tf-env\\lib\\site-packages (from matplotlib) (3.2.3)\n",
      "Requirement already satisfied: python-dateutil>=2.7 in c:\\users\\admin\\anaconda3\\envs\\tf-env\\lib\\site-packages (from matplotlib) (2.9.0.post0)\n",
      "Requirement already satisfied: six>=1.5 in c:\\users\\admin\\anaconda3\\envs\\tf-env\\lib\\site-packages (from python-dateutil>=2.7->matplotlib) (1.17.0)\n"
     ]
    }
   ],
   "source": [
    "!pip install matplotlib"
   ]
  },
  {
   "cell_type": "code",
   "execution_count": 17,
   "id": "7c0feb6f-beca-4776-80d7-a14419bffbd9",
   "metadata": {},
   "outputs": [
    {
     "data": {
      "image/png": "[encoded data removed]",
      "text/plain": [
       "<Figure size 640x480 with 1 Axes>"
      ]
     },
     "metadata": {},
     "output_type": "display_data"
    },
    {
     "data": {
      "image/png": "[encoded data removed]",
      "text/plain": [
       "<Figure size 640x480 with 1 Axes>"
      ]
     },
     "metadata": {},
     "output_type": "display_data"
    }
   ],
   "source": [
    "import matplotlib.pyplot as plt\n",
    "\n",
    "# Accuracy plot\n",
    "plt.plot(history.history['accuracy'], label='Train Accuracy')\n",
    "plt.plot(history.history['val_accuracy'], label='Val Accuracy')\n",
    "plt.xlabel('Epoch')\n",
    "plt.ylabel('Accuracy')\n",
    "plt.legend()\n",
    "plt.title('Model Accuracy')\n",
    "plt.show()\n",
    "\n",
    "# Loss plot\n",
    "plt.plot(history.history['loss'], label='Train Loss')\n",
    "plt.plot(history.history['val_loss'], label='Val Loss')\n",
    "plt.xlabel('Epoch')\n",
    "plt.ylabel('Loss')\n",
    "plt.legend()\n",
    "plt.title('Model Loss')\n",
    "plt.show()\n"
   ]
  },
  {
   "cell_type": "markdown",
   "id": "02744e3d-573b-421b-9322-4bdfbf7eba8c",
   "metadata": {},
   "source": [
    "## Save the entire model (architecture + weights + optimizer)"
   ]
  },
  {
   "cell_type": "code",
   "execution_count": 18,
   "id": "53d9a8ab-9bd6-41f5-a3f9-a58c45fb781d",
   "metadata": {},
   "outputs": [],
   "source": [
    "model.save(\"my_model.keras\") "
   ]
  },
  {
   "cell_type": "markdown",
   "id": "d2555e10-8b41-4047-98c9-37c9adf61f1f",
   "metadata": {},
   "source": [
    "## To Load the Saved Model Later"
   ]
  },
  {
   "cell_type": "code",
   "execution_count": 19,
   "id": "e8534775-841c-43d5-b4af-43ad9a5bf20c",
   "metadata": {},
   "outputs": [],
   "source": [
    "from tensorflow.keras.models import load_model\n",
    "\n",
    "model = load_model(\"my_model.keras\")"
   ]
  },
  {
   "cell_type": "code",
   "execution_count": 20,
   "id": "539125d3-ca8c-4166-88c4-aa93d9dc4fc9",
   "metadata": {},
   "outputs": [
    {
     "name": "stdout",
     "output_type": "stream",
     "text": [
      "\u001b[1m1/1\u001b[0m \u001b[32m━━━━━━━━━━━━━━━━━━━━\u001b[0m\u001b[37m\u001b[0m \u001b[1m0s\u001b[0m 103ms/step\n",
      "[[8.04633717e-04 9.73570764e-01 2.56245956e-02]\n",
      " [9.96818662e-01 3.17406538e-03 7.20454454e-06]\n",
      " [1.13487111e-07 4.13162401e-04 9.99586761e-01]\n",
      " [2.62627658e-03 9.09592927e-01 8.77807513e-02]\n",
      " [3.39184975e-04 8.76573086e-01 1.23087704e-01]\n",
      " [9.95819926e-01 4.17478895e-03 5.17462058e-06]\n",
      " [6.03784388e-03 9.90959287e-01 3.00288387e-03]\n",
      " [5.38781787e-05 7.81709049e-03 9.92128968e-01]\n",
      " [9.10933159e-05 5.42155802e-01 4.57753032e-01]\n",
      " [1.20045058e-03 9.91908848e-01 6.89070253e-03]\n",
      " [6.84426457e-04 7.94247761e-02 9.19890881e-01]\n",
      " [9.99200165e-01 7.99744681e-04 1.19025088e-07]\n",
      " [9.97785211e-01 2.21244805e-03 2.30385331e-06]\n",
      " [9.99133885e-01 8.66021321e-04 1.65309785e-07]\n",
      " [9.99613106e-01 3.86381347e-04 5.84168276e-07]\n",
      " [4.60739899e-03 9.19374466e-01 7.60181099e-02]\n",
      " [3.10070973e-05 3.28249717e-03 9.96686518e-01]\n",
      " [5.10100042e-04 9.97303724e-01 2.18620594e-03]\n",
      " [1.02351943e-03 9.88009393e-01 1.09670656e-02]\n",
      " [4.62238568e-05 4.84447973e-03 9.95109260e-01]\n",
      " [9.99530196e-01 4.69732360e-04 1.16264687e-07]\n",
      " [2.36777263e-03 2.08027571e-01 7.89604604e-01]\n",
      " [9.98755932e-01 1.24305068e-03 1.02780871e-06]\n",
      " [5.78218023e-05 6.78731734e-03 9.93154883e-01]\n",
      " [5.69366202e-05 1.87144727e-01 8.12798262e-01]\n",
      " [4.12761001e-05 4.43639653e-03 9.95522261e-01]\n",
      " [2.75129260e-05 2.27183904e-02 9.77254152e-01]\n",
      " [1.38311325e-05 3.06879799e-03 9.96917367e-01]\n",
      " [9.98722017e-01 1.27763161e-03 3.33416750e-07]\n",
      " [9.99081373e-01 9.18364851e-04 2.02843097e-07]]\n"
     ]
    }
   ],
   "source": [
    "predictions = model.predict(X_test)\n",
    "print(predictions)"
   ]
  },
  {
   "cell_type": "code",
   "execution_count": 21,
   "id": "debafd5a-a274-4c89-a797-dd6cd3b060f9",
   "metadata": {},
   "outputs": [
    {
     "name": "stdout",
     "output_type": "stream",
     "text": [
      "Epoch 1: 0.6667\n",
      "Epoch 2: 0.7500\n",
      "Epoch 3: 0.7500\n",
      "Epoch 4: 0.7500\n",
      "Epoch 5: 0.7500\n",
      "Epoch 6: 0.7500\n",
      "Epoch 7: 0.8333\n",
      "Epoch 8: 0.8333\n",
      "Epoch 9: 0.8333\n",
      "Epoch 10: 0.8333\n",
      "Epoch 11: 0.8333\n",
      "Epoch 12: 0.8333\n",
      "Epoch 13: 0.8333\n",
      "Epoch 14: 0.8333\n",
      "Epoch 15: 0.7500\n",
      "Epoch 16: 0.7500\n",
      "Epoch 17: 0.7500\n",
      "Epoch 18: 0.7500\n",
      "Epoch 19: 0.7500\n",
      "Epoch 20: 0.7500\n",
      "Epoch 21: 0.7500\n",
      "Epoch 22: 0.7500\n",
      "Epoch 23: 0.7500\n",
      "Epoch 24: 0.7500\n",
      "Epoch 25: 0.7500\n",
      "Epoch 26: 0.7500\n",
      "Epoch 27: 0.7500\n",
      "Epoch 28: 0.7500\n",
      "Epoch 29: 0.7500\n",
      "Epoch 30: 0.7500\n",
      "Epoch 31: 0.7500\n",
      "Epoch 32: 0.7500\n",
      "Epoch 33: 0.7500\n",
      "Epoch 34: 0.7500\n",
      "Epoch 35: 0.7500\n",
      "Epoch 36: 0.7500\n",
      "Epoch 37: 0.7500\n",
      "Epoch 38: 0.7500\n",
      "Epoch 39: 0.7500\n",
      "Epoch 40: 0.7500\n",
      "Epoch 41: 0.8333\n",
      "Epoch 42: 0.8333\n",
      "Epoch 43: 0.8333\n",
      "Epoch 44: 0.8333\n",
      "Epoch 45: 0.8333\n",
      "Epoch 46: 0.8333\n",
      "Epoch 47: 0.8333\n",
      "Epoch 48: 0.9167\n",
      "Epoch 49: 0.9167\n",
      "Epoch 50: 0.9167\n",
      "Epoch 51: 0.9167\n",
      "Epoch 52: 0.9167\n",
      "Epoch 53: 0.9167\n",
      "Epoch 54: 0.9167\n",
      "Epoch 55: 0.9167\n",
      "Epoch 56: 0.9167\n",
      "Epoch 57: 0.9167\n",
      "Epoch 58: 0.9167\n",
      "Epoch 59: 0.9167\n",
      "Epoch 60: 0.9167\n",
      "Epoch 61: 0.9167\n",
      "Epoch 62: 0.9167\n",
      "Epoch 63: 0.9167\n",
      "Epoch 64: 0.9167\n",
      "Epoch 65: 0.9167\n",
      "Epoch 66: 0.9167\n",
      "Epoch 67: 0.9167\n",
      "Epoch 68: 0.9167\n",
      "Epoch 69: 0.9167\n",
      "Epoch 70: 0.9167\n",
      "Epoch 71: 0.9167\n",
      "Epoch 72: 0.9167\n",
      "Epoch 73: 0.9167\n",
      "Epoch 74: 0.9167\n",
      "Epoch 75: 0.9167\n",
      "Epoch 76: 0.9167\n",
      "Epoch 77: 0.9167\n",
      "Epoch 78: 0.9167\n",
      "Epoch 79: 0.9167\n",
      "Epoch 80: 0.9167\n",
      "Epoch 81: 0.9167\n",
      "Epoch 82: 0.9167\n",
      "Epoch 83: 0.9167\n",
      "Epoch 84: 0.9167\n",
      "Epoch 85: 0.9167\n",
      "Epoch 86: 0.9167\n",
      "Epoch 87: 0.9167\n",
      "Epoch 88: 0.9167\n",
      "Epoch 89: 0.9167\n",
      "Epoch 90: 0.9167\n",
      "Epoch 91: 0.9167\n",
      "Epoch 92: 0.9167\n",
      "Epoch 93: 0.9167\n",
      "Epoch 94: 0.9167\n",
      "Epoch 95: 0.9167\n",
      "Epoch 96: 0.9167\n",
      "Epoch 97: 0.9167\n",
      "Epoch 98: 0.9167\n",
      "Epoch 99: 0.9167\n",
      "Epoch 100: 0.9167\n"
     ]
    }
   ],
   "source": [
    "for i, val_acc in enumerate(history.history['val_accuracy']):\n",
    "    print(f\"Epoch {i+1}: {val_acc:.4f}\")\n"
   ]
  },
  {
   "cell_type": "code",
   "execution_count": null,
   "id": "ee7e63e8-845f-422b-b0a4-06f9e7ed7087",
   "metadata": {},
   "outputs": [],
   "source": []
  }
 ],
 "metadata": {
  "kernelspec": {
   "display_name": "Python 3 (ipykernel)",
   "language": "python",
   "name": "python3"
  },
  "language_info": {
   "codemirror_mode": {
    "name": "ipython",
    "version": 3
   },
   "file_extension": ".py",
   "mimetype": "text/x-python",
   "name": "python",
   "nbconvert_exporter": "python",
   "pygments_lexer": "ipython3",
   "version": "3.10.16"
  }
 },
 "nbformat": 4,
 "nbformat_minor": 5
}
