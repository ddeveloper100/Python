{
 "cells": [
  {
   "cell_type": "markdown",
   "id": "2d3a0590-45c8-4d1c-80f4-01e10cf9c158",
   "metadata": {},
   "source": [
    "##  CNN to classify handwritten digits from the MNIST dataset (0–9 digits)"
   ]
  },
  {
   "cell_type": "code",
   "execution_count": 1,
   "id": "4e6a8d9d-65d5-4a9f-b062-59a7b431cdab",
   "metadata": {},
   "outputs": [],
   "source": [
    "# Step 1: Import libraries\n",
    "import tensorflow as tf\n",
    "from tensorflow.keras import layers, models\n",
    "from tensorflow.keras.datasets import mnist\n",
    "import matplotlib.pyplot as plt"
   ]
  },
  {
   "cell_type": "code",
   "execution_count": 2,
   "id": "a9554225-7948-46cd-8a22-a09b7deddec3",
   "metadata": {},
   "outputs": [],
   "source": [
    "# 60,000 training images + 10,000 testing images\n",
    "\n",
    "# Each image is a 28×28 grayscale digit\n",
    "\n",
    "# Labels: digits from 0 to 9"
   ]
  },
  {
   "cell_type": "markdown",
   "id": "f79ba05f-9037-4b4c-a8bf-5f94712ec1a2",
   "metadata": {},
   "source": [
    "### Load and Preprocess Data"
   ]
  },
  {
   "cell_type": "code",
   "execution_count": 3,
   "id": "ab36be52-8dba-450c-b5f3-0e6317cfd27d",
   "metadata": {},
   "outputs": [
    {
     "name": "stdout",
     "output_type": "stream",
     "text": [
      "Downloading data from https://storage.googleapis.com/tensorflow/tf-keras-datasets/mnist.npz\n",
      "\u001b[1m11490434/11490434\u001b[0m \u001b[32m━━━━━━━━━━━━━━━━━━━━\u001b[0m\u001b[37m\u001b[0m \u001b[1m3s\u001b[0m 0us/step\n"
     ]
    }
   ],
   "source": [
    "# Load dataset\n",
    "(x_train, y_train), (x_test, y_test) = mnist.load_data()\n",
    "\n",
    "# Normalize pixel values to [0, 1]\n",
    "x_train = x_train / 255.0\n",
    "x_test = x_test / 255.0\n",
    "\n",
    "# Reshape for CNN input (batch, height, width, channels)\n",
    "x_train = x_train.reshape(-1, 28, 28, 1)\n",
    "x_test = x_test.reshape(-1, 28, 28, 1)"
   ]
  },
  {
   "cell_type": "markdown",
   "id": "f02cfbc2-8a00-4e74-8800-5f1439326bc0",
   "metadata": {},
   "source": [
    "### Build CNN Model"
   ]
  },
  {
   "cell_type": "code",
   "execution_count": 13,
   "id": "6f999583-09dc-4e50-9dc3-1f5feb78160d",
   "metadata": {},
   "outputs": [],
   "source": [
    "model = models.Sequential([\n",
    "    tf.keras.Input(shape=(28, 28, 1)),  # explicit input layer\n",
    "\n",
    "    layers.Conv2D(32, (3, 3), activation='relu'),\n",
    "    layers.MaxPooling2D((2, 2)),\n",
    "\n",
    "    layers.Conv2D(64, (3, 3), activation='relu'),\n",
    "    layers.MaxPooling2D((2, 2)),\n",
    "\n",
    "    layers.Flatten(),\n",
    "    layers.Dense(64, activation='relu'),\n",
    "    layers.Dense(10, activation='softmax')  # 10 digits (0–9)\n",
    "])"
   ]
  },
  {
   "cell_type": "markdown",
   "id": "8f3e9baa-382b-433a-8d53-51a2f83551be",
   "metadata": {},
   "source": [
    "### Compile the Model"
   ]
  },
  {
   "cell_type": "code",
   "execution_count": 6,
   "id": "33694083-9c99-4846-ad90-308b80e82773",
   "metadata": {},
   "outputs": [],
   "source": [
    "model.compile(optimizer='adam',\n",
    "              loss='sparse_categorical_crossentropy',\n",
    "              metrics=['accuracy'])"
   ]
  },
  {
   "cell_type": "markdown",
   "id": "ec5a40b9-12d9-47fa-9406-bdcfe242fc7e",
   "metadata": {},
   "source": [
    "### Train the Model"
   ]
  },
  {
   "cell_type": "code",
   "execution_count": 7,
   "id": "e75f3dc0-a0e3-47e3-9831-397160338744",
   "metadata": {},
   "outputs": [
    {
     "name": "stdout",
     "output_type": "stream",
     "text": [
      "Epoch 1/5\n",
      "\u001b[1m1688/1688\u001b[0m \u001b[32m━━━━━━━━━━━━━━━━━━━━\u001b[0m\u001b[37m\u001b[0m \u001b[1m10s\u001b[0m 5ms/step - accuracy: 0.8919 - loss: 0.3519 - val_accuracy: 0.9847 - val_loss: 0.0508\n",
      "Epoch 2/5\n",
      "\u001b[1m1688/1688\u001b[0m \u001b[32m━━━━━━━━━━━━━━━━━━━━\u001b[0m\u001b[37m\u001b[0m \u001b[1m8s\u001b[0m 5ms/step - accuracy: 0.9844 - loss: 0.0512 - val_accuracy: 0.9882 - val_loss: 0.0402\n",
      "Epoch 3/5\n",
      "\u001b[1m1688/1688\u001b[0m \u001b[32m━━━━━━━━━━━━━━━━━━━━\u001b[0m\u001b[37m\u001b[0m \u001b[1m9s\u001b[0m 5ms/step - accuracy: 0.9909 - loss: 0.0301 - val_accuracy: 0.9900 - val_loss: 0.0367\n",
      "Epoch 4/5\n",
      "\u001b[1m1688/1688\u001b[0m \u001b[32m━━━━━━━━━━━━━━━━━━━━\u001b[0m\u001b[37m\u001b[0m \u001b[1m10s\u001b[0m 5ms/step - accuracy: 0.9937 - loss: 0.0197 - val_accuracy: 0.9900 - val_loss: 0.0360\n",
      "Epoch 5/5\n",
      "\u001b[1m1688/1688\u001b[0m \u001b[32m━━━━━━━━━━━━━━━━━━━━\u001b[0m\u001b[37m\u001b[0m \u001b[1m9s\u001b[0m 5ms/step - accuracy: 0.9945 - loss: 0.0162 - val_accuracy: 0.9905 - val_loss: 0.0418\n"
     ]
    }
   ],
   "source": [
    "history = model.fit(x_train, y_train, epochs=5, validation_split=0.1)"
   ]
  },
  {
   "cell_type": "markdown",
   "id": "908c587f-5eee-40f0-9819-91589993503f",
   "metadata": {},
   "source": [
    "### Evaluate the Model"
   ]
  },
  {
   "cell_type": "code",
   "execution_count": 8,
   "id": "8694ae02-d9f4-4f84-ad83-47d9f6905979",
   "metadata": {},
   "outputs": [
    {
     "name": "stdout",
     "output_type": "stream",
     "text": [
      "\u001b[1m313/313\u001b[0m \u001b[32m━━━━━━━━━━━━━━━━━━━━\u001b[0m\u001b[37m\u001b[0m \u001b[1m1s\u001b[0m 2ms/step - accuracy: 0.9863 - loss: 0.0404\n",
      "Test Accuracy: 0.9898\n"
     ]
    }
   ],
   "source": [
    "test_loss, test_acc = model.evaluate(x_test, y_test)\n",
    "print(f'Test Accuracy: {test_acc:.4f}')"
   ]
  },
  {
   "cell_type": "code",
   "execution_count": 9,
   "id": "b3702a82-5a88-4148-8c17-3825879a2e48",
   "metadata": {},
   "outputs": [
    {
     "name": "stdout",
     "output_type": "stream",
     "text": [
      "\u001b[1m313/313\u001b[0m \u001b[32m━━━━━━━━━━━━━━━━━━━━\u001b[0m\u001b[37m\u001b[0m \u001b[1m1s\u001b[0m 2ms/step\n"
     ]
    },
    {
     "data": {
      "image/png": "[encoded data removed]",
      "text/plain": [
       "<Figure size 1000x300 with 5 Axes>"
      ]
     },
     "metadata": {},
     "output_type": "display_data"
    }
   ],
   "source": [
    "import numpy as np\n",
    "\n",
    "# Predict on test images\n",
    "predictions = model.predict(x_test)\n",
    "\n",
    "# Plot first 5 images with predictions\n",
    "plt.figure(figsize=(10, 3))\n",
    "for i in range(5):\n",
    "    plt.subplot(1, 5, i+1)\n",
    "    plt.imshow(x_test[i].reshape(28, 28), cmap='gray')\n",
    "    plt.title(f\"Pred: {np.argmax(predictions[i])}\")\n",
    "    plt.axis('off')\n",
    "plt.tight_layout()\n",
    "plt.show()"
   ]
  },
  {
   "cell_type": "code",
   "execution_count": 10,
   "id": "c61fc743-3290-4e4f-8e0a-7c2e8342cba6",
   "metadata": {},
   "outputs": [
    {
     "name": "stdout",
     "output_type": "stream",
     "text": [
      "Predicted probabilities: [2.4873736e-07 2.6377809e-06 1.2965570e-07 1.1961583e-06 1.2646015e-10\n",
      " 1.1057887e-06 5.4071743e-12 9.9995029e-01 2.3296423e-07 4.4145443e-05]\n",
      "Predicted label: 7\n",
      "True label: 7\n"
     ]
    }
   ],
   "source": [
    "# View the softmax probabilities for one sample\n",
    "print(\"Predicted probabilities:\", predictions[0])\n",
    "print(\"Predicted label:\", np.argmax(predictions[0]))\n",
    "print(\"True label:\", y_test[0])\n"
   ]
  },
  {
   "cell_type": "code",
   "execution_count": 12,
   "id": "dcce1e03-8662-48d2-8dfa-660afa2e3c36",
   "metadata": {},
   "outputs": [
    {
     "data": {
      "image/png": "[encoded data removed]",
      "text/plain": [
       "<Figure size 1000x500 with 5 Axes>"
      ]
     },
     "metadata": {},
     "output_type": "display_data"
    }
   ],
   "source": [
    "# Make sure this comes right after predictions = model.predict(x_test)\n",
    "y_pred = np.argmax(predictions, axis=1)\n",
    "\n",
    "# Identify incorrect predictions\n",
    "wrong = np.where(y_pred != y_test)[0]\n",
    "\n",
    "# Plot some misclassified images\n",
    "plt.figure(figsize=(10, 5))\n",
    "for i, idx in enumerate(wrong[:5]):\n",
    "    plt.subplot(1, 5, i+1)\n",
    "    plt.imshow(x_test[idx].reshape(28, 28), cmap='gray')\n",
    "    plt.title(f\"T:{y_test[idx]}, P:{y_pred[idx]}\")\n",
    "    plt.axis('off')\n",
    "plt.tight_layout()\n",
    "plt.show()\n"
   ]
  },
  {
   "cell_type": "code",
   "execution_count": null,
   "id": "780ebb3f-cf26-44f7-bace-561f8b6e4337",
   "metadata": {},
   "outputs": [],
   "source": []
  }
 ],
 "metadata": {
  "kernelspec": {
   "display_name": "Python 3 (ipykernel)",
   "language": "python",
   "name": "python3"
  },
  "language_info": {
   "codemirror_mode": {
    "name": "ipython",
    "version": 3
   },
   "file_extension": ".py",
   "mimetype": "text/x-python",
   "name": "python",
   "nbconvert_exporter": "python",
   "pygments_lexer": "ipython3",
   "version": "3.12.7"
  }
 },
 "nbformat": 4,
 "nbformat_minor": 5
}
